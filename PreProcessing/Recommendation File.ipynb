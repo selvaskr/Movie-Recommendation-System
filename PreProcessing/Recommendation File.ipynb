{
 "cells": [
  {
   "cell_type": "code",
   "execution_count": 1,
   "id": "4064dde4",
   "metadata": {},
   "outputs": [],
   "source": [
    "import pandas as pd\n",
    "import pickle\n",
    "from sklearn.feature_extraction.text import CountVectorizer\n",
    "from sklearn.metrics.pairwise import cosine_similarity"
   ]
  },
  {
   "cell_type": "code",
   "execution_count": 2,
   "id": "0c552968",
   "metadata": {},
   "outputs": [],
   "source": [
    "data=pd.read_csv('movies_1816to2022.csv')"
   ]
  },
  {
   "cell_type": "code",
   "execution_count": 3,
   "id": "c66dbb15",
   "metadata": {},
   "outputs": [
    {
     "data": {
      "text/html": [
       "<div>\n",
       "<style scoped>\n",
       "    .dataframe tbody tr th:only-of-type {\n",
       "        vertical-align: middle;\n",
       "    }\n",
       "\n",
       "    .dataframe tbody tr th {\n",
       "        vertical-align: top;\n",
       "    }\n",
       "\n",
       "    .dataframe thead th {\n",
       "        text-align: right;\n",
       "    }\n",
       "</style>\n",
       "<table border=\"1\" class=\"dataframe\">\n",
       "  <thead>\n",
       "    <tr style=\"text-align: right;\">\n",
       "      <th></th>\n",
       "      <th>Unnamed: 0</th>\n",
       "      <th>director_name</th>\n",
       "      <th>actor_1_name</th>\n",
       "      <th>actor_2_name</th>\n",
       "      <th>actor_3_name</th>\n",
       "      <th>genres</th>\n",
       "      <th>movie_title</th>\n",
       "      <th>comb</th>\n",
       "    </tr>\n",
       "  </thead>\n",
       "  <tbody>\n",
       "    <tr>\n",
       "      <th>0</th>\n",
       "      <td>0</td>\n",
       "      <td>Doug Walker</td>\n",
       "      <td>Doug Walker</td>\n",
       "      <td>Rob Walker</td>\n",
       "      <td>unknown</td>\n",
       "      <td>Documentary</td>\n",
       "      <td>Star Wars: Episode Vii - The Force Awakens    ...</td>\n",
       "      <td>Doug Walker Rob Walker unknown Doug Walker Doc...</td>\n",
       "    </tr>\n",
       "    <tr>\n",
       "      <th>1</th>\n",
       "      <td>1</td>\n",
       "      <td>George Miller</td>\n",
       "      <td>Robin Williams</td>\n",
       "      <td>Brad Pitt</td>\n",
       "      <td>Common</td>\n",
       "      <td>Animation Comedy Family Musical</td>\n",
       "      <td>Happy Feet 2</td>\n",
       "      <td>Robin Williams Brad Pitt Common George Miller ...</td>\n",
       "    </tr>\n",
       "    <tr>\n",
       "      <th>2</th>\n",
       "      <td>2</td>\n",
       "      <td>unknown</td>\n",
       "      <td>Don Johnson</td>\n",
       "      <td>Philip Michael Thomas</td>\n",
       "      <td>John Diehl</td>\n",
       "      <td>Action Crime Drama Mystery Thriller</td>\n",
       "      <td>Miami Vice</td>\n",
       "      <td>Don Johnson Philip Michael Thomas John Diehl u...</td>\n",
       "    </tr>\n",
       "    <tr>\n",
       "      <th>3</th>\n",
       "      <td>3</td>\n",
       "      <td>Matt Birch</td>\n",
       "      <td>Rupert Grint</td>\n",
       "      <td>Dave Legeno</td>\n",
       "      <td>Ralph Ineson</td>\n",
       "      <td>Action Fantasy</td>\n",
       "      <td>Harry Potter And The Deathly Hallows: Part Ii</td>\n",
       "      <td>Rupert Grint Dave Legeno Ralph Ineson Matt Bir...</td>\n",
       "    </tr>\n",
       "    <tr>\n",
       "      <th>4</th>\n",
       "      <td>4</td>\n",
       "      <td>Chris Columbus</td>\n",
       "      <td>Daniel Radcliffe</td>\n",
       "      <td>Fiona Shaw</td>\n",
       "      <td>Verne Troyer</td>\n",
       "      <td>Adventure Family Fantasy</td>\n",
       "      <td>Harry Potter And The Sorcerer'S Stone</td>\n",
       "      <td>Daniel Radcliffe Fiona Shaw Verne Troyer Chris...</td>\n",
       "    </tr>\n",
       "    <tr>\n",
       "      <th>...</th>\n",
       "      <td>...</td>\n",
       "      <td>...</td>\n",
       "      <td>...</td>\n",
       "      <td>...</td>\n",
       "      <td>...</td>\n",
       "      <td>...</td>\n",
       "      <td>...</td>\n",
       "      <td>...</td>\n",
       "    </tr>\n",
       "    <tr>\n",
       "      <th>38361</th>\n",
       "      <td>38427</td>\n",
       "      <td>Kasi Lemmons</td>\n",
       "      <td>Naomi Ackie</td>\n",
       "      <td>Stanley Tucci</td>\n",
       "      <td>Ashton Sanders</td>\n",
       "      <td>Music, History, Drama</td>\n",
       "      <td>Whitney Houston: I Wanna Dance With Somebody</td>\n",
       "      <td>Naomi Ackie Stanley Tucci Ashton Sanders Kasi ...</td>\n",
       "    </tr>\n",
       "    <tr>\n",
       "      <th>38362</th>\n",
       "      <td>38428</td>\n",
       "      <td>Scott Cooper</td>\n",
       "      <td>Christian Bale</td>\n",
       "      <td>Harry Melling</td>\n",
       "      <td>Gillian Anderson</td>\n",
       "      <td>Thriller, Mystery, Crime</td>\n",
       "      <td>The Pale Blue Eye</td>\n",
       "      <td>Christian Bale Harry Melling Gillian Anderson ...</td>\n",
       "    </tr>\n",
       "    <tr>\n",
       "      <th>38363</th>\n",
       "      <td>38429</td>\n",
       "      <td>Sarah Polley</td>\n",
       "      <td>Rooney Mara</td>\n",
       "      <td>Claire Foy</td>\n",
       "      <td>Jessie Buckley</td>\n",
       "      <td>Drama</td>\n",
       "      <td>Women Talking</td>\n",
       "      <td>Rooney Mara Claire Foy Jessie Buckley Sarah Po...</td>\n",
       "    </tr>\n",
       "    <tr>\n",
       "      <th>38364</th>\n",
       "      <td>38430</td>\n",
       "      <td>Marc Forster</td>\n",
       "      <td>Tom Hanks</td>\n",
       "      <td>Mariana Treviño</td>\n",
       "      <td>Rachel Keller</td>\n",
       "      <td>Comedy, Drama</td>\n",
       "      <td>A Man Called Otto</td>\n",
       "      <td>Tom Hanks Mariana Treviño Rachel Keller Marc F...</td>\n",
       "    </tr>\n",
       "    <tr>\n",
       "      <th>38365</th>\n",
       "      <td>38431</td>\n",
       "      <td>Mary Nighy</td>\n",
       "      <td>Anna Kendrick</td>\n",
       "      <td>Kaniehtiio Horn</td>\n",
       "      <td>Charlie Carrick</td>\n",
       "      <td>Thriller, Drama</td>\n",
       "      <td>Alice, Darling</td>\n",
       "      <td>Anna Kendrick Kaniehtiio Horn Charlie Carrick ...</td>\n",
       "    </tr>\n",
       "  </tbody>\n",
       "</table>\n",
       "<p>38366 rows × 8 columns</p>\n",
       "</div>"
      ],
      "text/plain": [
       "       Unnamed: 0   director_name      actor_1_name           actor_2_name  \\\n",
       "0               0     Doug Walker       Doug Walker             Rob Walker   \n",
       "1               1   George Miller    Robin Williams              Brad Pitt   \n",
       "2               2         unknown       Don Johnson  Philip Michael Thomas   \n",
       "3               3      Matt Birch      Rupert Grint            Dave Legeno   \n",
       "4               4  Chris Columbus  Daniel Radcliffe             Fiona Shaw   \n",
       "...           ...             ...               ...                    ...   \n",
       "38361       38427   Kasi Lemmons        Naomi Ackie          Stanley Tucci   \n",
       "38362       38428   Scott Cooper     Christian Bale          Harry Melling   \n",
       "38363       38429   Sarah Polley        Rooney Mara             Claire Foy   \n",
       "38364       38430   Marc Forster          Tom Hanks        Mariana Treviño   \n",
       "38365       38431     Mary Nighy      Anna Kendrick        Kaniehtiio Horn   \n",
       "\n",
       "           actor_3_name                               genres  \\\n",
       "0               unknown                          Documentary   \n",
       "1                Common      Animation Comedy Family Musical   \n",
       "2            John Diehl  Action Crime Drama Mystery Thriller   \n",
       "3          Ralph Ineson                       Action Fantasy   \n",
       "4          Verne Troyer             Adventure Family Fantasy   \n",
       "...                 ...                                  ...   \n",
       "38361    Ashton Sanders                Music, History, Drama   \n",
       "38362  Gillian Anderson             Thriller, Mystery, Crime   \n",
       "38363    Jessie Buckley                                Drama   \n",
       "38364     Rachel Keller                        Comedy, Drama   \n",
       "38365   Charlie Carrick                      Thriller, Drama   \n",
       "\n",
       "                                             movie_title  \\\n",
       "0      Star Wars: Episode Vii - The Force Awakens    ...   \n",
       "1                                           Happy Feet 2   \n",
       "2                                 Miami Vice               \n",
       "3          Harry Potter And The Deathly Hallows: Part Ii   \n",
       "4                  Harry Potter And The Sorcerer'S Stone   \n",
       "...                                                  ...   \n",
       "38361       Whitney Houston: I Wanna Dance With Somebody   \n",
       "38362                                  The Pale Blue Eye   \n",
       "38363                                      Women Talking   \n",
       "38364                                  A Man Called Otto   \n",
       "38365                                     Alice, Darling   \n",
       "\n",
       "                                                    comb  \n",
       "0      Doug Walker Rob Walker unknown Doug Walker Doc...  \n",
       "1      Robin Williams Brad Pitt Common George Miller ...  \n",
       "2      Don Johnson Philip Michael Thomas John Diehl u...  \n",
       "3      Rupert Grint Dave Legeno Ralph Ineson Matt Bir...  \n",
       "4      Daniel Radcliffe Fiona Shaw Verne Troyer Chris...  \n",
       "...                                                  ...  \n",
       "38361  Naomi Ackie Stanley Tucci Ashton Sanders Kasi ...  \n",
       "38362  Christian Bale Harry Melling Gillian Anderson ...  \n",
       "38363  Rooney Mara Claire Foy Jessie Buckley Sarah Po...  \n",
       "38364  Tom Hanks Mariana Treviño Rachel Keller Marc F...  \n",
       "38365  Anna Kendrick Kaniehtiio Horn Charlie Carrick ...  \n",
       "\n",
       "[38366 rows x 8 columns]"
      ]
     },
     "metadata": {},
     "output_type": "display_data"
    }
   ],
   "source": [
    "display(data)"
   ]
  },
  {
   "cell_type": "code",
   "execution_count": 4,
   "id": "469b4d5a",
   "metadata": {},
   "outputs": [],
   "source": [
    "cv = CountVectorizer()\n",
    "#Covert each movie record into a vector making suitable for constructing similarity matrix.\n",
    "count_matrix = cv.fit_transform(data['comb'])\n",
    "similarity = cosine_similarity(count_matrix)"
   ]
  },
  {
   "cell_type": "code",
   "execution_count": 5,
   "id": "06a8e498",
   "metadata": {},
   "outputs": [
    {
     "name": "stdout",
     "output_type": "stream",
     "text": [
      "(38366, 38366)\n"
     ]
    }
   ],
   "source": [
    "print(similarity.shape)"
   ]
  },
  {
   "cell_type": "code",
   "execution_count": 6,
   "id": "dab69a5b",
   "metadata": {},
   "outputs": [],
   "source": [
    "def recommend(movie):\n",
    "    index = data[data['movie_title'] == movie].index[0]\n",
    "    distances = sorted(list(enumerate(similarity[index])),reverse=True,key = lambda x: x[1])\n",
    "    for i in distances[0:11]:\n",
    "        print(data.iloc[i[0]].movie_title)"
   ]
  },
  {
   "cell_type": "code",
   "execution_count": 9,
   "id": "574fda04",
   "metadata": {},
   "outputs": [
    {
     "name": "stdout",
     "output_type": "stream",
     "text": [
      "Avatar\n",
      "Avatar: The Way Of Water\n",
      "Avatar 2\n",
      "Avatar: Special Edition\n",
      "Aliens\n",
      "Guardians Of The Galaxy\n",
      "Guardians Of The Galaxy Vol. 2\n",
      "Solomon Kane\n",
      "The Wolverine\n",
      "Dark Phoenix\n",
      "Aliens Of The Deep\n"
     ]
    }
   ],
   "source": [
    "a=recommend('Avatar')"
   ]
  },
  {
   "cell_type": "code",
   "execution_count": 10,
   "id": "094d5440",
   "metadata": {},
   "outputs": [
    {
     "name": "stdout",
     "output_type": "stream",
     "text": [
      "Titanic\n",
      "No Reservations\n",
      "Feast Of All Saints\n",
      "Death Defying Acts\n",
      "Entrapment\n",
      "...All The Marbles\n",
      "Intolerable Cruelty\n",
      "The Son Of The Sheik\n",
      "Fire Down Below\n",
      "Billy Budd\n",
      "Anzio\n"
     ]
    }
   ],
   "source": [
    "a=recommend('Titanic')"
   ]
  },
  {
   "cell_type": "code",
   "execution_count": 11,
   "id": "fc43c4d6",
   "metadata": {},
   "outputs": [],
   "source": [
    "with open('similarity_object.pkl', 'wb') as file:\n",
    "    pickle.dump(similarity, file)"
   ]
  },
  {
   "cell_type": "code",
   "execution_count": 12,
   "id": "9b63d918",
   "metadata": {},
   "outputs": [],
   "source": [
    "#Testing\n",
    "with open('similarity_object.pkl', 'rb') as file:\n",
    "    loaded_similarity = pickle.load(file)"
   ]
  },
  {
   "cell_type": "code",
   "execution_count": 15,
   "id": "3e475b70",
   "metadata": {},
   "outputs": [
    {
     "name": "stdout",
     "output_type": "stream",
     "text": [
      "Avatar\n",
      "Avatar: The Way Of Water\n",
      "Avatar 2\n",
      "Avatar: Special Edition\n",
      "Aliens\n",
      "Guardians Of The Galaxy\n",
      "Guardians Of The Galaxy Vol. 2\n",
      "Solomon Kane\n",
      "The Wolverine\n",
      "Dark Phoenix\n",
      "Aliens Of The Deep\n"
     ]
    }
   ],
   "source": [
    "index = data[data['movie_title'] == \"Avatar\"].index[0]\n",
    "distances = sorted(list(enumerate(loaded_similarity[index])),reverse=True,key = lambda x: x[1])\n",
    "for i in distances[0:11]:\n",
    "    print(data.iloc[i[0]].movie_title)"
   ]
  },
  {
   "cell_type": "code",
   "execution_count": null,
   "id": "ebfeed3d",
   "metadata": {},
   "outputs": [],
   "source": []
  }
 ],
 "metadata": {
  "kernelspec": {
   "display_name": "Python 3",
   "language": "python",
   "name": "python3"
  },
  "language_info": {
   "codemirror_mode": {
    "name": "ipython",
    "version": 3
   },
   "file_extension": ".py",
   "mimetype": "text/x-python",
   "name": "python",
   "nbconvert_exporter": "python",
   "pygments_lexer": "ipython3",
   "version": "3.8.8"
  }
 },
 "nbformat": 4,
 "nbformat_minor": 5
}
